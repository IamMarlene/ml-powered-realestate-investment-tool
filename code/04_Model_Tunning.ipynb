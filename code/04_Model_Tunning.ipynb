{
 "cells": [
  {
   "cell_type": "markdown",
   "id": "6b27fd9b-6f95-4c29-a875-d7c42fb34694",
   "metadata": {},
   "source": [
    "# 04. Model Tuning"
   ]
  },
  {
   "cell_type": "code",
   "execution_count": 16,
   "id": "449a9051-3ffb-4e3f-8032-bd6326ced632",
   "metadata": {},
   "outputs": [],
   "source": [
    "# Import necessary libraries\n",
    "import pandas as pd\n",
    "import numpy as np\n",
    "import matplotlib.pyplot as plt\n",
    "import seaborn as sns\n",
    "from sklearn.model_selection import GridSearchCV, RandomizedSearchCV, cross_val_score, KFold\n",
    "from sklearn.linear_model import Ridge, Lasso, ElasticNet\n",
    "from sklearn.preprocessing import StandardScaler, OneHotEncoder\n",
    "from sklearn.compose import ColumnTransformer\n",
    "from sklearn.pipeline import Pipeline\n",
    "from sklearn.impute import SimpleImputer\n",
    "from sklearn.metrics import mean_squared_error, r2_score\n",
    "import pickle\n",
    "import warnings\n",
    "warnings.filterwarnings('ignore')"
   ]
  },
  {
   "cell_type": "code",
   "execution_count": 17,
   "id": "e499f17a-771a-496f-9e59-c5a501a2249d",
   "metadata": {},
   "outputs": [
    {
     "name": "stdout",
     "output_type": "stream",
     "text": [
      "Loading processed data...\n"
     ]
    }
   ],
   "source": [
    "# Load preprocessed data from previous notebook\n",
    "print(\"Loading processed data...\")\n",
    "with open('../data/processed_data.pkl', 'rb') as f:\n",
    "    data = pickle.load(f)"
   ]
  },
  {
   "cell_type": "code",
   "execution_count": 18,
   "id": "2c3c5366-ef44-4eef-a208-4f4407b53308",
   "metadata": {},
   "outputs": [
    {
     "name": "stdout",
     "output_type": "stream",
     "text": [
      "Training data shape: (2051, 23)\n",
      "Test data shape: (878, 23)\n"
     ]
    }
   ],
   "source": [
    "# Extract data components\n",
    "X_train = data['X_train']\n",
    "y_train = data['y_train']\n",
    "X_test = data['X_test']\n",
    "test_ID = data['test_ID']\n",
    "numeric_features = data['numeric_features']\n",
    "categorical_features = data['categorical_features']\n",
    "\n",
    "print(f\"Training data shape: {X_train.shape}\")\n",
    "print(f\"Test data shape: {X_test.shape}\")"
   ]
  },
  {
   "cell_type": "code",
   "execution_count": 19,
   "id": "5b9f1c25-5e1e-4210-aef7-13f7c3e6c167",
   "metadata": {},
   "outputs": [
    {
     "name": "stdout",
     "output_type": "stream",
     "text": [
      "y_train summary statistics:\n",
      "Min: 12789\n",
      "Max: 611657\n",
      "Mean: 181469.70160897123\n",
      "Are there any values > 100? True\n"
     ]
    }
   ],
   "source": [
    "# Add this right after loading your data\n",
    "print(\"y_train summary statistics:\")\n",
    "print(\"Min:\", np.min(y_train))\n",
    "print(\"Max:\", np.max(y_train))\n",
    "print(\"Mean:\", np.mean(y_train))\n",
    "print(\"Are there any values > 100?\", np.any(y_train > 100))\n",
    "\n",
    "# If y_train is properly log-transformed, values should typically be between 0-20\n",
    "# House prices in log scale would not be in the hundreds of thousands"
   ]
  },
  {
   "cell_type": "code",
   "execution_count": 20,
   "id": "5d67d84e-c7b8-471a-b8d3-585b1997ca12",
   "metadata": {},
   "outputs": [
    {
     "name": "stdout",
     "output_type": "stream",
     "text": [
      "Applying log transformation to y_train...\n"
     ]
    }
   ],
   "source": [
    "# Add this after data loading and before model tuning\n",
    "print(\"Applying log transformation to y_train...\")\n",
    "y_train_original = y_train.copy()  # Keep original for reference\n",
    "y_train = np.log1p(y_train)  # Properly transform the target"
   ]
  },
  {
   "cell_type": "code",
   "execution_count": null,
   "id": "15e19de6-363c-49a0-b4f4-4180a5758a8a",
   "metadata": {},
   "outputs": [],
   "source": []
  },
  {
   "cell_type": "code",
   "execution_count": 21,
   "id": "3b7892c6-bae4-4751-8aea-36ea45a578dc",
   "metadata": {},
   "outputs": [
    {
     "name": "stdout",
     "output_type": "stream",
     "text": [
      "Loading best model from benchmarking step...\n",
      "Best model from benchmarking: Ridge\n"
     ]
    }
   ],
   "source": [
    "# Load the best model info from benchmarking\n",
    "try:\n",
    "    print(\"Loading best model from benchmarking step...\")\n",
    "    with open('../data/best_model.pkl', 'rb') as f:\n",
    "        best_benchmark_model = pickle.load(f)\n",
    "    \n",
    "    # Use the model class from benchmark to determine which model to tune\n",
    "    if hasattr(best_benchmark_model, 'named_steps'):\n",
    "        model_class = best_benchmark_model.named_steps['model'].__class__.__name__\n",
    "    else:\n",
    "        model_class = best_benchmark_model.__class__.__name__\n",
    "    print(f\"Best model from benchmarking: {model_class}\")\n",
    "except:\n",
    "    print(\"No best model file found from benchmarking. Using Ridge and Lasso as default.\")\n",
    "    model_class = \"Ridge\"  # Default to Ridge if no best model found\n"
   ]
  },
  {
   "cell_type": "markdown",
   "id": "d5e7c031-0bbf-4701-8e65-57b76cbee7dc",
   "metadata": {},
   "source": [
    "## 1. Setting up Preprocessing Pipeline"
   ]
  },
  {
   "cell_type": "code",
   "execution_count": 22,
   "id": "4adce4d9-6bef-470a-83c7-f5cadd98cdac",
   "metadata": {},
   "outputs": [
    {
     "name": "stdout",
     "output_type": "stream",
     "text": [
      "\n",
      "=== SETTING UP PREPROCESSING PIPELINE ===\n"
     ]
    }
   ],
   "source": [
    "print(\"\\n=== SETTING UP PREPROCESSING PIPELINE ===\")\n",
    "\n",
    "# For numerical features: impute and scale\n",
    "numeric_transformer = Pipeline(steps=[\n",
    "    ('imputer', SimpleImputer(strategy='median')),\n",
    "    ('scaler', StandardScaler())\n",
    "])\n",
    "\n",
    "# For categorical features: impute and one-hot encode\n",
    "categorical_transformer = Pipeline(steps=[\n",
    "    ('imputer', SimpleImputer(strategy='most_frequent')),\n",
    "    ('onehot', OneHotEncoder(handle_unknown='ignore', sparse_output=False))\n",
    "])\n",
    "\n",
    "# Create preprocessor - robust to having no categorical features\n",
    "transformers = [('num', numeric_transformer, numeric_features)]\n",
    "if len(categorical_features) > 0:\n",
    "    transformers.append(('cat', categorical_transformer, categorical_features))\n",
    "\n",
    "preprocessor = ColumnTransformer(transformers=transformers)"
   ]
  },
  {
   "cell_type": "markdown",
   "id": "c3df0941-ce39-4ef4-8ca0-e88f09e410f9",
   "metadata": {},
   "source": [
    "## 2. Hyperparameter Tuning for Ridge Regression"
   ]
  },
  {
   "cell_type": "code",
   "execution_count": 23,
   "id": "680c2039-3d46-4cc0-9aad-a8fee04f6961",
   "metadata": {},
   "outputs": [
    {
     "name": "stdout",
     "output_type": "stream",
     "text": [
      "\n",
      "=== HYPERPARAMETER TUNING ===\n",
      "\n",
      "1. Detailed Ridge Regression Tuning\n",
      "Basic model fits successfully!\n",
      "Sample predictions (log scale): [12.1919468  12.32267691 11.83860709 11.92428019 11.82872797]\n",
      "Sample predictions (original scale): [197193.69171213 224733.93361422 138496.43507005 150885.04942417\n",
      " 137134.93990006]\n",
      "Fitting 5 folds for each of 20 candidates, totalling 100 fits\n",
      "Best Ridge alpha: 8.8587\n",
      "Best Ridge log-space CV RMSE: 0.13540\n",
      "Best Ridge dollar-space RMSE: $25290.48\n"
     ]
    },
    {
     "data": {
      "image/png": "[encoded data removed]",
      "text/plain": [
       "<Figure size 1200x600 with 1 Axes>"
      ]
     },
     "metadata": {},
     "output_type": "display_data"
    }
   ],
   "source": [
    "from sklearn.metrics import make_scorer\n",
    "print(f\"\\n=== HYPERPARAMETER TUNING ===\")\n",
    "\n",
    "tuning_results = {}\n",
    "\n",
    "# Ridge Regression Tuning (always included)\n",
    "# Ridge Regression Tuning (always included)\n",
    "if model_class in [\"Ridge\", \"LinearRegression\"] or model_class == \"\":\n",
    "    print(\"\\n1. Detailed Ridge Regression Tuning\")\n",
    "    \n",
    "    # Create pipeline\n",
    "    ridge_pipeline = Pipeline(steps=[\n",
    "        ('preprocessor', preprocessor),\n",
    "        ('model', Ridge(alpha=1.0, max_iter=2000))\n",
    "    ])\n",
    "    \n",
    "    # Verify the simple model works\n",
    "    try:\n",
    "        ridge_pipeline.fit(X_train, y_train)\n",
    "        print(\"Basic model fits successfully!\")\n",
    "        \n",
    "        # Test predictions to check for numeric issues\n",
    "        test_pred = ridge_pipeline.predict(X_train[:5])\n",
    "        print(\"Sample predictions (log scale):\", test_pred)\n",
    "        print(\"Sample predictions (original scale):\", np.expm1(test_pred))\n",
    "    except Exception as e:\n",
    "        print(f\"Error in basic model: {e}\")\n",
    "    \n",
    "    # Define parameter grid - try many alpha values on a logarithmic scale\n",
    "    ridge_param_grid = {\n",
    "        'model__alpha': np.logspace(-3, 2, 20)  # More focused range\n",
    "    }\n",
    "    \n",
    "    # Set up grid search - using standard RMSE in log space\n",
    "    ridge_grid = GridSearchCV(\n",
    "        ridge_pipeline,\n",
    "        ridge_param_grid,\n",
    "        cv=5,\n",
    "        scoring='neg_root_mean_squared_error',  # Evaluate in log space\n",
    "        n_jobs=-1,\n",
    "        verbose=1\n",
    "    )\n",
    "    \n",
    "    # Fit grid search\n",
    "    ridge_grid.fit(X_train, y_train)\n",
    "    \n",
    "    # Report results\n",
    "    print(f\"Best Ridge alpha: {ridge_grid.best_params_['model__alpha']:.4f}\")\n",
    "    print(f\"Best Ridge log-space CV RMSE: {-ridge_grid.best_score_:.5f}\")\n",
    "    \n",
    "    # Calculate dollar-space RMSE for the best model\n",
    "    best_ridge = ridge_grid.best_estimator_\n",
    "    y_pred_log = best_ridge.predict(X_train)\n",
    "    y_pred_dollars = np.expm1(y_pred_log)\n",
    "    y_true_dollars = np.expm1(y_train)\n",
    "    dollar_rmse = np.sqrt(mean_squared_error(y_true_dollars, y_pred_dollars))\n",
    "    print(f\"Best Ridge dollar-space RMSE: ${dollar_rmse:.2f}\")\n",
    "    \n",
    "    # Store results\n",
    "    tuning_results['Ridge'] = {\n",
    "        'best_params': ridge_grid.best_params_,\n",
    "        'cv_rmse': -ridge_grid.best_score_,  # Log space RMSE\n",
    "        'dollar_rmse': dollar_rmse,          # Dollar space RMSE\n",
    "        'model': ridge_grid.best_estimator_\n",
    "    }\n",
    "    \n",
    "    # Plot alpha vs RMSE\n",
    "    ridge_results = pd.DataFrame(ridge_grid.cv_results_)\n",
    "    plt.figure(figsize=(12, 6))\n",
    "    plt.semilogx(ridge_results['param_model__alpha'], -ridge_results['mean_test_score'])\n",
    "    plt.xlabel('Alpha (log scale)')\n",
    "    plt.ylabel('RMSE (log scale)')\n",
    "    plt.title('Ridge Regression: RMSE vs Alpha')\n",
    "    plt.grid(True)\n",
    "    plt.savefig('../images/ridge_tuning.png')\n",
    "    plt.show()"
   ]
  },
  {
   "cell_type": "markdown",
   "id": "c8d5d336-1362-4a5f-8cef-0864abc6e63b",
   "metadata": {},
   "source": [
    "## 3. Compared Tuned Models"
   ]
  },
  {
   "cell_type": "code",
   "execution_count": 24,
   "id": "c4a4c868-95c6-4823-8a70-3067a442c0ea",
   "metadata": {},
   "outputs": [
    {
     "name": "stdout",
     "output_type": "stream",
     "text": [
      "\n",
      "=== COMPARING TUNED MODELS ===\n",
      "   Model  CV RMSE                           Parameters\n",
      "0  Ridge   0.1354  {'model__alpha': 8.858667904100823}\n"
     ]
    },
    {
     "data": {
      "image/png": "[encoded data removed]",
      "text/plain": [
       "<Figure size 1000x600 with 1 Axes>"
      ]
     },
     "metadata": {},
     "output_type": "display_data"
    }
   ],
   "source": [
    "print(\"\\n=== COMPARING TUNED MODELS ===\")\n",
    "\n",
    "# Create comparison DataFrame\n",
    "tuned_df = pd.DataFrame({\n",
    "    'Model': list(tuning_results.keys()),\n",
    "    'CV RMSE': [tuning_results[m]['cv_rmse'] for m in tuning_results],\n",
    "    'Parameters': [str(tuning_results[m]['best_params']) for m in tuning_results]\n",
    "})\n",
    "\n",
    "# Sort by CV RMSE\n",
    "tuned_df = tuned_df.sort_values('CV RMSE')\n",
    "print(tuned_df)\n",
    "\n",
    "# Visualize results\n",
    "plt.figure(figsize=(10, 6))\n",
    "sns.barplot(x='Model', y='CV RMSE', data=tuned_df)\n",
    "plt.title('Comparison of Tuned Models')\n",
    "plt.ylabel('RMSE ($)')\n",
    "plt.grid(axis='y')\n",
    "plt.tight_layout()\n",
    "plt.savefig('../images/tuned_models_comparison.png')\n",
    "plt.show()"
   ]
  },
  {
   "cell_type": "markdown",
   "id": "4221730a-22ab-4eb7-9dc3-528c0256a235",
   "metadata": {},
   "source": [
    "## 4. Selecting Final Model and Saving"
   ]
  },
  {
   "cell_type": "code",
   "execution_count": 25,
   "id": "8d8aca0b-5393-46a1-be77-ff97de002c1c",
   "metadata": {},
   "outputs": [
    {
     "name": "stdout",
     "output_type": "stream",
     "text": [
      "\n",
      "=== BEST MODEL ===\n",
      "Model: Ridge\n",
      "Parameters: {'model__alpha': 8.858667904100823}\n",
      "CV RMSE: $0.14\n",
      "\n",
      "Improvement over benchmark model:\n",
      "Benchmark RMSE: $0.15\n",
      "Tuned RMSE: $0.14\n",
      "Absolute improvement: $0.02\n",
      "Percentage improvement: 10.39%\n",
      "Final tuned model saved successfully!\n"
     ]
    }
   ],
   "source": [
    "best_model_name = tuned_df.iloc[0]['Model']\n",
    "best_model = tuning_results[best_model_name]['model']\n",
    "best_params = tuning_results[best_model_name]['best_params']\n",
    "best_rmse = tuned_df.iloc[0]['CV RMSE']\n",
    "\n",
    "print(f\"\\n=== BEST MODEL ===\")\n",
    "print(f\"Model: {best_model_name}\")\n",
    "print(f\"Parameters: {best_params}\")\n",
    "print(f\"CV RMSE: ${best_rmse:.2f}\")\n",
    "\n",
    "# Compare with previous best model (if available)\n",
    "try:\n",
    "    # Get cross-validation score for previous best model from benchmarking\n",
    "    kf = KFold(n_splits=5, shuffle=True, random_state=42)\n",
    "    prev_scores = cross_val_score(\n",
    "        best_benchmark_model, \n",
    "        X_train, \n",
    "        y_train, \n",
    "        cv=kf,\n",
    "        scoring='neg_root_mean_squared_error'\n",
    "    )\n",
    "    prev_rmse = -prev_scores.mean()\n",
    "    \n",
    "    # Calculate improvement\n",
    "    improvement = prev_rmse - best_rmse\n",
    "    percent_improvement = (improvement / prev_rmse) * 100\n",
    "    \n",
    "    print(f\"\\nImprovement over benchmark model:\")\n",
    "    print(f\"Benchmark RMSE: ${prev_rmse:.2f}\")\n",
    "    print(f\"Tuned RMSE: ${best_rmse:.2f}\")\n",
    "    print(f\"Absolute improvement: ${improvement:.2f}\")\n",
    "    print(f\"Percentage improvement: {percent_improvement:.2f}%\")\n",
    "except:\n",
    "    print(\"\\nNo benchmark model found for comparison.\")\n",
    "\n",
    "# Save the final tuned model\n",
    "with open('../data/final_tuned_model.pkl', 'wb') as f:\n",
    "    pickle.dump(best_model, f)\n",
    "\n",
    "print(\"Final tuned model saved successfully!\")\n"
   ]
  },
  {
   "cell_type": "markdown",
   "id": "c33f3f48-fae9-483c-a616-b79238e7de9e",
   "metadata": {},
   "source": [
    "## 5. Selecting Final Model and Saving"
   ]
  },
  {
   "cell_type": "code",
   "execution_count": 26,
   "id": "ab10ecc9-d52a-44f0-bc25-466c70c53dd6",
   "metadata": {},
   "outputs": [
    {
     "name": "stdout",
     "output_type": "stream",
     "text": [
      "\n",
      "=== GENERATING PREDICTIONS ===\n",
      "Final submission file created successfully!\n"
     ]
    }
   ],
   "source": [
    "# 5. Generating Predictions\n",
    "print(\"\\n=== GENERATING PREDICTIONS ===\")\n",
    "# Make predictions with the final model (these will be log predictions)\n",
    "log_predictions = best_model.predict(X_test)\n",
    "\n",
    "# Transform back to original scale\n",
    "test_predictions = np.expm1(log_predictions)\n",
    "\n",
    "# Create submission file\n",
    "final_submission = pd.DataFrame({\n",
    "    'Id': test_ID,\n",
    "    'SalePrice': test_predictions\n",
    "})\n",
    "\n",
    "# Ensure predictions are positive\n",
    "final_submission['SalePrice'] = final_submission['SalePrice'].clip(lower=0)\n",
    "\n",
    "# Save to CSV\n",
    "final_submission.to_csv('../data/final_submission.csv', index=False)\n",
    "print(\"Final submission file created successfully!\")"
   ]
  },
  {
   "cell_type": "code",
   "execution_count": null,
   "id": "24b4960f-8304-44cd-9b08-242dad84b38e",
   "metadata": {},
   "outputs": [],
   "source": []
  }
 ],
 "metadata": {
  "kernelspec": {
   "display_name": "Python 3 (ipykernel)",
   "language": "python",
   "name": "python3"
  },
  "language_info": {
   "codemirror_mode": {
    "name": "ipython",
    "version": 3
   },
   "file_extension": ".py",
   "mimetype": "text/x-python",
   "name": "python",
   "nbconvert_exporter": "python",
   "pygments_lexer": "ipython3",
   "version": "3.12.7"
  }
 },
 "nbformat": 4,
 "nbformat_minor": 5
}
