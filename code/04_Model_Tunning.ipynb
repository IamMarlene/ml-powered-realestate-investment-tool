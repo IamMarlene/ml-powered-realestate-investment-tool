{
 "cells": [
  {
   "cell_type": "markdown",
   "id": "6b27fd9b-6f95-4c29-a875-d7c42fb34694",
   "metadata": {},
   "source": [
    "# 04. Model Tuning"
   ]
  },
  {
   "cell_type": "code",
   "execution_count": 1,
   "id": "449a9051-3ffb-4e3f-8032-bd6326ced632",
   "metadata": {},
   "outputs": [],
   "source": [
    "# Import necessary libraries\n",
    "import pandas as pd\n",
    "import numpy as np\n",
    "import matplotlib.pyplot as plt\n",
    "import seaborn as sns\n",
    "from sklearn.model_selection import GridSearchCV, RandomizedSearchCV, cross_val_score, KFold\n",
    "from sklearn.linear_model import Ridge, Lasso, ElasticNet\n",
    "from sklearn.preprocessing import StandardScaler, OneHotEncoder\n",
    "from sklearn.compose import ColumnTransformer\n",
    "from sklearn.pipeline import Pipeline\n",
    "from sklearn.impute import SimpleImputer\n",
    "from sklearn.metrics import mean_squared_error, r2_score\n",
    "import pickle\n",
    "import warnings\n",
    "warnings.filterwarnings('ignore')"
   ]
  },
  {
   "cell_type": "code",
   "execution_count": 2,
   "id": "e499f17a-771a-496f-9e59-c5a501a2249d",
   "metadata": {},
   "outputs": [
    {
     "name": "stdout",
     "output_type": "stream",
     "text": [
      "Loading processed data...\n"
     ]
    }
   ],
   "source": [
    "# Load preprocessed data from previous notebook\n",
    "print(\"Loading processed data...\")\n",
    "with open('../data/processed_data.pkl', 'rb') as f:\n",
    "    data = pickle.load(f)"
   ]
  },
  {
   "cell_type": "code",
   "execution_count": 3,
   "id": "2c3c5366-ef44-4eef-a208-4f4407b53308",
   "metadata": {},
   "outputs": [
    {
     "name": "stdout",
     "output_type": "stream",
     "text": [
      "Training data shape: (2051, 23)\n",
      "Test data shape: (878, 23)\n"
     ]
    }
   ],
   "source": [
    "# Extract data components\n",
    "X_train = data['X_train']\n",
    "y_train = data['y_train']\n",
    "X_test = data['X_test']\n",
    "test_ID = data['test_ID']\n",
    "numeric_features = data['numeric_features']\n",
    "categorical_features = data['categorical_features']\n",
    "\n",
    "print(f\"Training data shape: {X_train.shape}\")\n",
    "print(f\"Test data shape: {X_test.shape}\")"
   ]
  },
  {
   "cell_type": "code",
   "execution_count": 4,
   "id": "3b7892c6-bae4-4751-8aea-36ea45a578dc",
   "metadata": {},
   "outputs": [
    {
     "name": "stdout",
     "output_type": "stream",
     "text": [
      "Loading best model from benchmarking step...\n",
      "Best model from benchmarking: Ridge\n"
     ]
    }
   ],
   "source": [
    "# Load the best model info from benchmarking\n",
    "try:\n",
    "    print(\"Loading best model from benchmarking step...\")\n",
    "    with open('../data/best_model.pkl', 'rb') as f:\n",
    "        best_benchmark_model = pickle.load(f)\n",
    "    \n",
    "    # Use the model class from benchmark to determine which model to tune\n",
    "    if hasattr(best_benchmark_model, 'named_steps'):\n",
    "        model_class = best_benchmark_model.named_steps['model'].__class__.__name__\n",
    "    else:\n",
    "        model_class = best_benchmark_model.__class__.__name__\n",
    "    print(f\"Best model from benchmarking: {model_class}\")\n",
    "except:\n",
    "    print(\"No best model file found from benchmarking. Using Ridge and Lasso as default.\")\n",
    "    model_class = \"Ridge\"  # Default to Ridge if no best model found\n"
   ]
  },
  {
   "cell_type": "markdown",
   "id": "d5e7c031-0bbf-4701-8e65-57b76cbee7dc",
   "metadata": {},
   "source": [
    "## 1. Setting up Preprocessing Pipeline"
   ]
  },
  {
   "cell_type": "code",
   "execution_count": 5,
   "id": "4adce4d9-6bef-470a-83c7-f5cadd98cdac",
   "metadata": {},
   "outputs": [
    {
     "name": "stdout",
     "output_type": "stream",
     "text": [
      "\n",
      "=== SETTING UP PREPROCESSING PIPELINE ===\n"
     ]
    }
   ],
   "source": [
    "print(\"\\n=== SETTING UP PREPROCESSING PIPELINE ===\")\n",
    "\n",
    "# For numerical features: impute and scale\n",
    "numeric_transformer = Pipeline(steps=[\n",
    "    ('imputer', SimpleImputer(strategy='median')),\n",
    "    ('scaler', StandardScaler())\n",
    "])\n",
    "\n",
    "# For categorical features: impute and one-hot encode\n",
    "categorical_transformer = Pipeline(steps=[\n",
    "    ('imputer', SimpleImputer(strategy='most_frequent')),\n",
    "    ('onehot', OneHotEncoder(handle_unknown='ignore', sparse_output=False))\n",
    "])\n",
    "\n",
    "# Create preprocessor - robust to having no categorical features\n",
    "transformers = [('num', numeric_transformer, numeric_features)]\n",
    "if len(categorical_features) > 0:\n",
    "    transformers.append(('cat', categorical_transformer, categorical_features))\n",
    "\n",
    "preprocessor = ColumnTransformer(transformers=transformers)"
   ]
  },
  {
   "cell_type": "markdown",
   "id": "c3df0941-ce39-4ef4-8ca0-e88f09e410f9",
   "metadata": {},
   "source": [
    "## 2. Hyperparameter Tuning for Ridge Regression"
   ]
  },
  {
   "cell_type": "code",
   "execution_count": 6,
   "id": "680c2039-3d46-4cc0-9aad-a8fee04f6961",
   "metadata": {},
   "outputs": [
    {
     "name": "stdout",
     "output_type": "stream",
     "text": [
      "\n",
      "=== HYPERPARAMETER TUNING ===\n",
      "\n",
      "1. Detailed Ridge Regression Tuning\n",
      "Fitting 5 folds for each of 30 candidates, totalling 150 fits\n",
      "Best Ridge alpha: 0.5298\n",
      "Best Ridge CV RMSE: $28565.61\n"
     ]
    }
   ],
   "source": [
    "from sklearn.metrics import make_scorer\n",
    "print(f\"\\n=== HYPERPARAMETER TUNING ===\")\n",
    "\n",
    "tuning_results = {}\n",
    "\n",
    "# Ridge Regression Tuning\n",
    "# Ridge Regression Tuning\n",
    "if model_class in [\"Ridge\", \"LinearRegression\"]:\n",
    "    print(\"\\n1. Detailed Ridge Regression Tuning\")\n",
    "    \n",
    "    ridge_pipeline = Pipeline(steps=[\n",
    "        ('preprocessor', preprocessor),\n",
    "        ('model', Ridge())\n",
    "    ])\n",
    "    \n",
    "    ridge_param_grid = {'model__alpha': np.logspace(-2, 3, 30)}\n",
    "    \n",
    "    ridge_grid = GridSearchCV(\n",
    "        ridge_pipeline,\n",
    "        ridge_param_grid,\n",
    "        cv=5,\n",
    "        scoring='neg_root_mean_squared_error',\n",
    "        n_jobs=-1,\n",
    "        verbose=1\n",
    "    )\n",
    "    \n",
    "    ridge_grid.fit(X_train, y_train)\n",
    "    \n",
    "    print(f\"Best Ridge alpha: {ridge_grid.best_params_['model__alpha']:.4f}\")\n",
    "    print(f\"Best Ridge CV RMSE: ${-ridge_grid.best_score_:.2f}\")\n",
    "    \n",
    "    tuning_results['Ridge'] = {\n",
    "        'best_params': ridge_grid.best_params_,\n",
    "        'cv_rmse': -ridge_grid.best_score_,\n",
    "        'model': ridge_grid.best_estimator_\n",
    "    }\n",
    "\n",
    "\n",
    "# Lasso Regression Tuning\n",
    "if model_class in [\"Lasso\", \"LinearRegression\"]:\n",
    "    print(\"\\n2. Detailed Lasso Regression Tuning\")\n",
    "    \n",
    "    lasso_pipeline = Pipeline(steps=[\n",
    "        ('preprocessor', preprocessor),\n",
    "        ('model', Lasso(max_iter=10000))\n",
    "    ])\n",
    "    \n",
    "    lasso_param_grid = {'model__alpha': np.logspace(-4, 0, 100)}\n",
    "    \n",
    "    lasso_grid = GridSearchCV(\n",
    "        lasso_pipeline,\n",
    "        lasso_param_grid,\n",
    "        cv=5,\n",
    "        scoring='neg_root_mean_squared_error',\n",
    "        n_jobs=-1,\n",
    "        verbose=1\n",
    "    )\n",
    "    \n",
    "    lasso_grid.fit(X_train, y_train)\n",
    "    \n",
    "    print(f\"Best Lasso alpha: {lasso_grid.best_params_['model__alpha']:.6f}\")\n",
    "    print(f\"Best Lasso CV RMSE: ${-lasso_grid.best_score_:.2f}\")\n",
    "    \n",
    "    tuning_results['Lasso'] = {\n",
    "        'best_params': lasso_grid.best_params_,\n",
    "        'cv_rmse': -lasso_grid.best_score_,\n",
    "        'model': lasso_grid.best_estimator_\n",
    "    }\n",
    "\n",
    "# ElasticNet Tuning (if applicable)\n",
    "if model_class == \"ElasticNet\":\n",
    "    print(\"\\n3. Detailed ElasticNet Tuning\")\n",
    "    \n",
    "    elasticnet_pipeline = Pipeline(steps=[\n",
    "        ('preprocessor', preprocessor),\n",
    "        ('model', ElasticNet(max_iter=10000))\n",
    "    ])\n",
    "    elasticnet_param_grid = {\n",
    "        'model__alpha': np.logspace(-4, 0, 10),\n",
    "        'model__l1_ratio': np.linspace(0.1, 0.9, 9)\n",
    "    }\n",
    "    \n",
    "    elasticnet_grid = GridSearchCV(\n",
    "        elasticnet_pipeline,\n",
    "        elasticnet_param_grid,\n",
    "        cv=5,\n",
    "        scoring='neg_root_mean_squared_error',\n",
    "        n_jobs=-1,\n",
    "        verbose=1\n",
    "    )\n",
    "    \n",
    "    elasticnet_grid.fit(X_train, y_train)\n",
    "    \n",
    "    print(f\"Best ElasticNet alpha: {elasticnet_grid.best_params_['model__alpha']:.6f}\")\n",
    "    print(f\"Best ElasticNet l1_ratio: {elasticnet_grid.best_params_['model__l1_ratio']:.2f}\")\n",
    "    print(f\"Best ElasticNet CV RMSE: ${-elasticnet_grid.best_score_:.2f}\")\n",
    "    \n",
    "    tuning_results['ElasticNet'] = {\n",
    "        'best_params': elasticnet_grid.best_params_,\n",
    "        'cv_rmse': -elasticnet_grid.best_score_,\n",
    "        'model': elasticnet_grid.best_estimator_\n",
    "    }"
   ]
  },
  {
   "cell_type": "markdown",
   "id": "c8d5d336-1362-4a5f-8cef-0864abc6e63b",
   "metadata": {},
   "source": [
    "## 3. Compared Tuned Models"
   ]
  },
  {
   "cell_type": "code",
   "execution_count": 7,
   "id": "c4a4c868-95c6-4823-8a70-3067a442c0ea",
   "metadata": {},
   "outputs": [
    {
     "name": "stdout",
     "output_type": "stream",
     "text": [
      "\n",
      "=== COMPARING TUNED MODELS ===\n",
      "   Model       CV RMSE                           Parameters\n",
      "0  Ridge  28565.606816  {'model__alpha': 0.529831690628371}\n"
     ]
    },
    {
     "data": {
      "image/png": "[encoded data removed]",
      "text/plain": [
       "<Figure size 1000x600 with 1 Axes>"
      ]
     },
     "metadata": {},
     "output_type": "display_data"
    }
   ],
   "source": [
    "print(\"\\n=== COMPARING TUNED MODELS ===\")\n",
    "\n",
    "# Create comparison DataFrame\n",
    "tuned_df = pd.DataFrame({\n",
    "    'Model': list(tuning_results.keys()),\n",
    "    'CV RMSE': [tuning_results[m]['cv_rmse'] for m in tuning_results],\n",
    "    'Parameters': [str(tuning_results[m]['best_params']) for m in tuning_results]\n",
    "})\n",
    "\n",
    "# Sort by CV RMSE\n",
    "tuned_df = tuned_df.sort_values('CV RMSE')\n",
    "print(tuned_df)\n",
    "\n",
    "# Visualize results\n",
    "plt.figure(figsize=(10, 6))\n",
    "sns.barplot(x='Model', y='CV RMSE', data=tuned_df)\n",
    "plt.title('Comparison of Tuned Models')\n",
    "plt.ylabel('RMSE ($)')\n",
    "plt.grid(axis='y')\n",
    "plt.tight_layout()\n",
    "plt.savefig('../images/tuned_models_comparison.png')\n",
    "plt.show()"
   ]
  },
  {
   "cell_type": "markdown",
   "id": "4221730a-22ab-4eb7-9dc3-528c0256a235",
   "metadata": {},
   "source": [
    "## 4. Selecting Final Model and Saving"
   ]
  },
  {
   "cell_type": "code",
   "execution_count": 8,
   "id": "8d8aca0b-5393-46a1-be77-ff97de002c1c",
   "metadata": {},
   "outputs": [
    {
     "name": "stdout",
     "output_type": "stream",
     "text": [
      "\n",
      "=== BEST MODEL ===\n",
      "Model: Ridge\n",
      "Parameters: {'model__alpha': 0.529831690628371}\n",
      "CV RMSE: $28565.61\n",
      "Benchmark RMSE: $31429.61\n",
      "Tuned RMSE: $28565.61\n",
      "Improvement: $2864.00 (9.11%)\n",
      "Final tuned model saved successfully!\n"
     ]
    }
   ],
   "source": [
    "best_model_name = tuned_df.iloc[0]['Model']\n",
    "best_model = tuning_results[best_model_name]['model']\n",
    "best_params = tuning_results[best_model_name]['best_params']\n",
    "best_rmse = tuned_df.iloc[0]['CV RMSE']\n",
    "\n",
    "print(f\"\\n=== BEST MODEL ===\")\n",
    "print(f\"Model: {best_model_name}\")\n",
    "print(f\"Parameters: {best_params}\")\n",
    "print(f\"CV RMSE: ${best_rmse:.2f}\")\n",
    "\n",
    "try:\n",
    "    kf = KFold(n_splits=5, shuffle=True, random_state=42)\n",
    "    prev_scores = cross_val_score(best_benchmark_model, X_train, y_train, cv=kf, scoring='neg_root_mean_squared_error')\n",
    "    prev_rmse = -prev_scores.mean()\n",
    "    \n",
    "    improvement = prev_rmse - best_rmse\n",
    "    percent_improvement = (improvement / prev_rmse) * 100\n",
    "    \n",
    "    print(f\"Benchmark RMSE: ${prev_rmse:.2f}\")\n",
    "    print(f\"Tuned RMSE: ${best_rmse:.2f}\")\n",
    "    print(f\"Improvement: ${improvement:.2f} ({percent_improvement:.2f}%)\")\n",
    "except:\n",
    "    print(\"\\nNo benchmark model found for comparison.\")\n",
    "\n",
    "# Save Final Model\n",
    "with open('../data/final_tuned_model.pkl', 'wb') as f:\n",
    "    pickle.dump(best_model, f)\n",
    "\n",
    "print(\"Final tuned model saved successfully!\")"
   ]
  },
  {
   "cell_type": "markdown",
   "id": "c33f3f48-fae9-483c-a616-b79238e7de9e",
   "metadata": {},
   "source": [
    "## 5. Selecting Final Model and Saving"
   ]
  },
  {
   "cell_type": "code",
   "execution_count": 9,
   "id": "ab10ecc9-d52a-44f0-bc25-466c70c53dd6",
   "metadata": {},
   "outputs": [
    {
     "name": "stdout",
     "output_type": "stream",
     "text": [
      "\n",
      "=== GENERATING PREDICTIONS ===\n",
      "Final submission file created successfully!\n"
     ]
    }
   ],
   "source": [
    "print(\"\\n=== GENERATING PREDICTIONS ===\")\n",
    "\n",
    "test_predictions = best_model.predict(X_test)\n",
    "\n",
    "final_submission = pd.DataFrame({'Id': test_ID, 'SalePrice': test_predictions})\n",
    "final_submission['SalePrice'] = final_submission['SalePrice'].clip(lower=0)\n",
    "final_submission.to_csv('../data/final_submission.csv', index=False)\n",
    "\n",
    "print(\"Final submission file created successfully!\")"
   ]
  },
  {
   "cell_type": "code",
   "execution_count": null,
   "id": "24b4960f-8304-44cd-9b08-242dad84b38e",
   "metadata": {},
   "outputs": [],
   "source": []
  }
 ],
 "metadata": {
  "kernelspec": {
   "display_name": "Python 3 (ipykernel)",
   "language": "python",
   "name": "python3"
  },
  "language_info": {
   "codemirror_mode": {
    "name": "ipython",
    "version": 3
   },
   "file_extension": ".py",
   "mimetype": "text/x-python",
   "name": "python",
   "nbconvert_exporter": "python",
   "pygments_lexer": "ipython3",
   "version": "3.12.7"
  }
 },
 "nbformat": 4,
 "nbformat_minor": 5
}
